{
 "cells": [
  {
   "cell_type": "code",
   "execution_count": 14,
   "id": "3716d652",
   "metadata": {},
   "outputs": [
    {
     "name": "stdout",
     "output_type": "stream",
     "text": [
      "Hello World\n"
     ]
    }
   ],
   "source": [
    "print(\"Hello World\") #Double_Quot -------> #It is used for only single line."
   ]
  },
  {
   "cell_type": "code",
   "execution_count": 13,
   "id": "d1971412",
   "metadata": {},
   "outputs": [
    {
     "name": "stdout",
     "output_type": "stream",
     "text": [
      "Hello World\n"
     ]
    }
   ],
   "source": [
    "print('Hello World') #Single_Quot -------> #It is also used for only single line."
   ]
  },
  {
   "cell_type": "code",
   "execution_count": 3,
   "id": "d2969a55",
   "metadata": {},
   "outputs": [
    {
     "name": "stdout",
     "output_type": "stream",
     "text": [
      "Ram's book\n"
     ]
    }
   ],
   "source": [
    "print(\"Ram's book\")"
   ]
  },
  {
   "cell_type": "code",
   "execution_count": 4,
   "id": "5a77fd34",
   "metadata": {},
   "outputs": [
    {
     "ename": "SyntaxError",
     "evalue": "invalid syntax (3435484128.py, line 1)",
     "output_type": "error",
     "traceback": [
      "\u001b[1;36m  Input \u001b[1;32mIn [4]\u001b[1;36m\u001b[0m\n\u001b[1;33m    print('Ram's book')\u001b[0m\n\u001b[1;37m               ^\u001b[0m\n\u001b[1;31mSyntaxError\u001b[0m\u001b[1;31m:\u001b[0m invalid syntax\n"
     ]
    }
   ],
   "source": [
    "print('Ram's book')"
   ]
  },
  {
   "cell_type": "code",
   "execution_count": 12,
   "id": "bb7427eb",
   "metadata": {},
   "outputs": [
    {
     "name": "stdout",
     "output_type": "stream",
     "text": [
      "hello bhai!! \n",
      "kaise ho ??\n"
     ]
    }
   ],
   "source": [
    "print('''hello bhai!! \n",
    "kaise ho ??''')         #Triple_Quot -------> #It is used for Multiple line."
   ]
  },
  {
   "cell_type": "code",
   "execution_count": 6,
   "id": "ad05b0ca",
   "metadata": {},
   "outputs": [
    {
     "ename": "SyntaxError",
     "evalue": "EOL while scanning string literal (1009139950.py, line 1)",
     "output_type": "error",
     "traceback": [
      "\u001b[1;36m  Input \u001b[1;32mIn [6]\u001b[1;36m\u001b[0m\n\u001b[1;33m    print(\"hello\u001b[0m\n\u001b[1;37m                ^\u001b[0m\n\u001b[1;31mSyntaxError\u001b[0m\u001b[1;31m:\u001b[0m EOL while scanning string literal\n"
     ]
    }
   ],
   "source": [
    "print(\"hello\n",
    "      bhai\")"
   ]
  },
  {
   "cell_type": "code",
   "execution_count": 7,
   "id": "62cd0ea2",
   "metadata": {},
   "outputs": [
    {
     "ename": "SyntaxError",
     "evalue": "EOL while scanning string literal (2683863534.py, line 1)",
     "output_type": "error",
     "traceback": [
      "\u001b[1;36m  Input \u001b[1;32mIn [7]\u001b[1;36m\u001b[0m\n\u001b[1;33m    print('hello\u001b[0m\n\u001b[1;37m                 ^\u001b[0m\n\u001b[1;31mSyntaxError\u001b[0m\u001b[1;31m:\u001b[0m EOL while scanning string literal\n"
     ]
    }
   ],
   "source": [
    "print('hello \n",
    "      world')"
   ]
  },
  {
   "cell_type": "code",
   "execution_count": 15,
   "id": "2fb9820e",
   "metadata": {},
   "outputs": [
    {
     "name": "stdout",
     "output_type": "stream",
     "text": [
      "123\n"
     ]
    }
   ],
   "source": [
    "print(123)  #---------> #Its a Number."
   ]
  },
  {
   "cell_type": "code",
   "execution_count": 16,
   "id": "f4eddf2d",
   "metadata": {},
   "outputs": [
    {
     "name": "stdout",
     "output_type": "stream",
     "text": [
      "123\n"
     ]
    }
   ],
   "source": [
    "print('123') #---------> #Its A String."
   ]
  },
  {
   "cell_type": "markdown",
   "id": "d501a952",
   "metadata": {},
   "source": [
    "# Data Types & Variables.\n"
   ]
  },
  {
   "cell_type": "code",
   "execution_count": 17,
   "id": "21d83474",
   "metadata": {},
   "outputs": [],
   "source": [
    "# int------->   + or -(0-9)\n",
    "# string\n",
    "# float\n",
    "# bool\n",
    "# complex\n"
   ]
  },
  {
   "cell_type": "code",
   "execution_count": 22,
   "id": "d244ff15",
   "metadata": {},
   "outputs": [],
   "source": [
    "a = 9  #-----> Assign value in variable."
   ]
  },
  {
   "cell_type": "code",
   "execution_count": 20,
   "id": "c01cc37a",
   "metadata": {},
   "outputs": [
    {
     "name": "stdout",
     "output_type": "stream",
     "text": [
      "a\n"
     ]
    }
   ],
   "source": [
    "print('a')"
   ]
  },
  {
   "cell_type": "code",
   "execution_count": 21,
   "id": "9bb8cf78",
   "metadata": {},
   "outputs": [
    {
     "name": "stdout",
     "output_type": "stream",
     "text": [
      "9\n"
     ]
    }
   ],
   "source": [
    "print(a)"
   ]
  },
  {
   "cell_type": "code",
   "execution_count": 23,
   "id": "db1317b2",
   "metadata": {},
   "outputs": [
    {
     "name": "stdout",
     "output_type": "stream",
     "text": [
      "b\n"
     ]
    }
   ],
   "source": [
    "print('b')"
   ]
  },
  {
   "cell_type": "code",
   "execution_count": 24,
   "id": "9d61c18a",
   "metadata": {},
   "outputs": [
    {
     "name": "stdout",
     "output_type": "stream",
     "text": [
      "-7\n"
     ]
    }
   ],
   "source": [
    "# int -----> + or - (0-9)\n",
    "x = -7\n",
    "print(x)"
   ]
  },
  {
   "cell_type": "code",
   "execution_count": 25,
   "id": "66be9423",
   "metadata": {},
   "outputs": [
    {
     "data": {
      "text/plain": [
       "int"
      ]
     },
     "execution_count": 25,
     "metadata": {},
     "output_type": "execute_result"
    }
   ],
   "source": [
    "type(x)"
   ]
  },
  {
   "cell_type": "code",
   "execution_count": 26,
   "id": "314ee44d",
   "metadata": {},
   "outputs": [
    {
     "data": {
      "text/plain": [
       "-34.58"
      ]
     },
     "execution_count": 26,
     "metadata": {},
     "output_type": "execute_result"
    }
   ],
   "source": [
    "# float-----> + - (0-9) decimal point\n",
    "x = -34.58\n",
    "x"
   ]
  },
  {
   "cell_type": "code",
   "execution_count": 27,
   "id": "aabfa773",
   "metadata": {},
   "outputs": [
    {
     "data": {
      "text/plain": [
       "float"
      ]
     },
     "execution_count": 27,
     "metadata": {},
     "output_type": "execute_result"
    }
   ],
   "source": [
    "type(x)"
   ]
  },
  {
   "cell_type": "code",
   "execution_count": 28,
   "id": "c3c80bda",
   "metadata": {},
   "outputs": [],
   "source": [
    "# string ----->\n",
    "# '',\"\"\n",
    "a = 'thdukty#@#$%@#()_@yahoo.com,12.345,45,78'"
   ]
  },
  {
   "cell_type": "code",
   "execution_count": 29,
   "id": "1a3bb67e",
   "metadata": {},
   "outputs": [
    {
     "name": "stdout",
     "output_type": "stream",
     "text": [
      "thdukty#@#$%@#()_@yahoo.com,12.345,45,78\n"
     ]
    }
   ],
   "source": [
    "print(a)"
   ]
  },
  {
   "cell_type": "code",
   "execution_count": 30,
   "id": "d2d28c5e",
   "metadata": {},
   "outputs": [
    {
     "data": {
      "text/plain": [
       "str"
      ]
     },
     "execution_count": 30,
     "metadata": {},
     "output_type": "execute_result"
    }
   ],
   "source": [
    "type(a)"
   ]
  },
  {
   "cell_type": "code",
   "execution_count": 31,
   "id": "eb762da8",
   "metadata": {},
   "outputs": [
    {
     "data": {
      "text/plain": [
       "str"
      ]
     },
     "execution_count": 31,
     "metadata": {},
     "output_type": "execute_result"
    }
   ],
   "source": [
    "# bool ----> True & False\n",
    "a = 'True'\n",
    "type(a)"
   ]
  },
  {
   "cell_type": "code",
   "execution_count": 32,
   "id": "143e5478",
   "metadata": {},
   "outputs": [
    {
     "data": {
      "text/plain": [
       "bool"
      ]
     },
     "execution_count": 32,
     "metadata": {},
     "output_type": "execute_result"
    }
   ],
   "source": [
    "a = True\n",
    "a\n",
    "type(a)"
   ]
  },
  {
   "cell_type": "code",
   "execution_count": 33,
   "id": "4868ae12",
   "metadata": {},
   "outputs": [
    {
     "ename": "NameError",
     "evalue": "name 'true' is not defined",
     "output_type": "error",
     "traceback": [
      "\u001b[1;31m---------------------------------------------------------------------------\u001b[0m",
      "\u001b[1;31mNameError\u001b[0m                                 Traceback (most recent call last)",
      "Input \u001b[1;32mIn [33]\u001b[0m, in \u001b[0;36m<cell line: 1>\u001b[1;34m()\u001b[0m\n\u001b[1;32m----> 1\u001b[0m a \u001b[38;5;241m=\u001b[39m \u001b[43mtrue\u001b[49m\n\u001b[0;32m      2\u001b[0m a\n",
      "\u001b[1;31mNameError\u001b[0m: name 'true' is not defined"
     ]
    }
   ],
   "source": [
    "a = true\n",
    "a"
   ]
  },
  {
   "cell_type": "code",
   "execution_count": 34,
   "id": "a3f6135c",
   "metadata": {},
   "outputs": [
    {
     "data": {
      "text/plain": [
       "str"
      ]
     },
     "execution_count": 34,
     "metadata": {},
     "output_type": "execute_result"
    }
   ],
   "source": [
    "a = \"true\"\n",
    "type(a)"
   ]
  },
  {
   "cell_type": "code",
   "execution_count": 35,
   "id": "fb379709",
   "metadata": {},
   "outputs": [],
   "source": [
    "#wap to add two numbers"
   ]
  },
  {
   "cell_type": "code",
   "execution_count": 36,
   "id": "2550edeb",
   "metadata": {},
   "outputs": [
    {
     "name": "stdout",
     "output_type": "stream",
     "text": [
      "33\n"
     ]
    }
   ],
   "source": [
    "a=10\n",
    "b=23\n",
    "c=a+b\n",
    "print(c)"
   ]
  },
  {
   "cell_type": "code",
   "execution_count": 37,
   "id": "53af6d9b",
   "metadata": {},
   "outputs": [
    {
     "name": "stdout",
     "output_type": "stream",
     "text": [
      "Before swapping-----> 8 9\n",
      "After swapping -------> 9 8\n"
     ]
    }
   ],
   "source": [
    "#wap to swap two numbers .\n",
    "\n",
    "# 1. with the help of 3rd variable.\n",
    "# 2 . without using third variable.\n",
    "\n",
    "a = 8\n",
    "b = 9\n",
    "print(\"Before swapping----->\",a,b)\n",
    "c = b\n",
    "b = a\n",
    "a = c\n",
    "print(\"After swapping ------->\",a,b)"
   ]
  },
  {
   "cell_type": "code",
   "execution_count": 38,
   "id": "21e616de",
   "metadata": {},
   "outputs": [
    {
     "name": "stdout",
     "output_type": "stream",
     "text": [
      "7 4\n",
      "4 7\n"
     ]
    }
   ],
   "source": [
    "# best wrong method.\n",
    "a = 7\n",
    "b = 4\n",
    "print(a,b)\n",
    "a = 4\n",
    "b = 7\n",
    "print(a,b)"
   ]
  },
  {
   "cell_type": "code",
   "execution_count": 39,
   "id": "9e99455f",
   "metadata": {},
   "outputs": [
    {
     "name": "stdout",
     "output_type": "stream",
     "text": [
      "7 6\n",
      "6 7\n"
     ]
    }
   ],
   "source": [
    "# swap the number without third var.\n",
    "\n",
    "a,b = 7,6\n",
    "print(a,b)\n",
    "a,b = b,a\n",
    "print(a,b)"
   ]
  },
  {
   "cell_type": "code",
   "execution_count": null,
   "id": "440abe3c",
   "metadata": {},
   "outputs": [],
   "source": []
  }
 ],
 "metadata": {
  "kernelspec": {
   "display_name": "Python 3 (ipykernel)",
   "language": "python",
   "name": "python3"
  },
  "language_info": {
   "codemirror_mode": {
    "name": "ipython",
    "version": 3
   },
   "file_extension": ".py",
   "mimetype": "text/x-python",
   "name": "python",
   "nbconvert_exporter": "python",
   "pygments_lexer": "ipython3",
   "version": "3.9.12"
  }
 },
 "nbformat": 4,
 "nbformat_minor": 5
}
