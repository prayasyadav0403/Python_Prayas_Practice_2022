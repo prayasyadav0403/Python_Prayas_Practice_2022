{
 "cells": [
  {
   "cell_type": "markdown",
   "id": "4a3c7e1e",
   "metadata": {},
   "source": [
    "# OOPS"
   ]
  },
  {
   "cell_type": "markdown",
   "id": "092007f6",
   "metadata": {},
   "source": [
    "# Object Oriented Programming Structure.\n",
    "\n",
    "#we can use function only in single file but in oops we can use number of files.\n",
    "#oops is the updated version of oops.\n",
    "#create simple templete.\n",
    "\n"
   ]
  },
  {
   "cell_type": "code",
   "execution_count": null,
   "id": "1c62a565",
   "metadata": {},
   "outputs": [],
   "source": [
    "# 1.Object-------->Real world entity.#Group of properties.\n",
    "# 2.Class--------->#Blue print of object.#Store the properties of objects\n",
    "\n",
    "#Pillar of oops\n",
    "# 1. Inheritance--------->Exchange the properties.\n",
    "# 2. Encapsulation------->Hide the data & hide the data complexity.\n",
    "# 3. Polymerphism-------->One work with different types.\n",
    "# 4. Abstraction--------->Hide data with respect to the user."
   ]
  },
  {
   "cell_type": "code",
   "execution_count": null,
   "id": "5d5664c2",
   "metadata": {},
   "outputs": [],
   "source": [
    "class apple:\n",
    "    a = 'mai hu apple'\n",
    "    \n",
    "x = apple()    \n",
    "x.a"
   ]
  },
  {
   "cell_type": "code",
   "execution_count": null,
   "id": "f85c0c11",
   "metadata": {},
   "outputs": [],
   "source": [
    "#pass self aruments in function is compulsory in class.\n",
    "\n",
    "class student:\n",
    "    def fun(prayas,x,y,z):\n",
    "        result=x+y+z\n",
    "        return result\n",
    "    \n",
    "s=student()\n",
    "s.fun(1,2,3)"
   ]
  },
  {
   "cell_type": "code",
   "execution_count": null,
   "id": "7e962353",
   "metadata": {},
   "outputs": [],
   "source": [
    "#wap to find the cost of furniture if you visit the shop\n",
    "#on even days then you will offered the discount of \n",
    "# 20% and if you visit the shop on odd days then there is \n",
    "#extra charges of 3.5% on the total cost.find the cost\n",
    "#with the help of oops using function.\n",
    "\n"
   ]
  },
  {
   "cell_type": "code",
   "execution_count": null,
   "id": "e6df7581",
   "metadata": {},
   "outputs": [],
   "source": [
    "class furniture:\n",
    "    def func(self,price,day):\n",
    "        if day %2 ==0:\n",
    "            dis = (price*20)/100\n",
    "            t_price = price-dis\n",
    "            print(t_price)\n",
    "            \n",
    "        else:\n",
    "            extra_chrge = (price *3.5)/100\n",
    "            total_price = price + extra_chrge\n",
    "            print(total_price)\n",
    "    \n",
    "    \n",
    "x=furniture()\n",
    "x.func(30000,7)\n",
    "    \n",
    "   "
   ]
  },
  {
   "cell_type": "code",
   "execution_count": null,
   "id": "e0fe985c",
   "metadata": {},
   "outputs": [],
   "source": [
    "#wap to calculate the cost of furniture which sold by a\n",
    "#shopkeeper with heavy discount of 5% on sunday but on another days there is no discount\n",
    "#but he charge the tax of 13% on the furniture.with using oops function.\n",
    "\n",
    "\n",
    "class furniture:\n",
    "    def func(self,price,day):\n",
    "        if day ==7:\n",
    "            dis = (price*5)/100\n",
    "            t_price = price-dis\n",
    "            print(t_price)\n",
    "            \n",
    "        else:\n",
    "            tax = (price *13)/100\n",
    "            total_price = price + tax\n",
    "            print(total_price)\n",
    "\n",
    "x=furniture()\n",
    "x.func(1000,7)\n"
   ]
  },
  {
   "cell_type": "code",
   "execution_count": null,
   "id": "31d6249a",
   "metadata": {},
   "outputs": [],
   "source": [
    "#Constructor----->\n",
    "#Init------> Initializer\n",
    "#We don't need to call constructor and we used to call function.\n",
    "\n",
    "class student:\n",
    "    def __init__(self,name,age):\n",
    "        self.name = name\n",
    "        self.age = age\n",
    "        \n",
    "s=student(\"A\",23)      \n",
    "s.name"
   ]
  },
  {
   "cell_type": "markdown",
   "id": "952362d4",
   "metadata": {},
   "source": [
    "# Inheritance"
   ]
  },
  {
   "cell_type": "code",
   "execution_count": null,
   "id": "52f4afcb",
   "metadata": {},
   "outputs": [],
   "source": [
    "#We work in two classes with the help of inheritance.\n",
    "#First class is parent class and second class is child class.\n",
    "\n",
    "\n",
    "class parent:\n",
    "    def __init__(self,bp,gussa):\n",
    "        self.bp = bp\n",
    "        self.gussa = gussa\n",
    "        \n",
    "    \n",
    "class child(parent):\n",
    "    def __init__(self,bp,gussa,study):\n",
    "        parent.__init__(self,bp,gussa)\n",
    "        self.study = study\n",
    "        \n",
    "        \n",
    "c = child(\"bp aa gya\", \"gussa aa gya\", \"study nhi krta\") \n",
    "\n",
    "print(c.study)\n",
    "c.bp\n"
   ]
  },
  {
   "cell_type": "code",
   "execution_count": null,
   "id": "fde688dd",
   "metadata": {},
   "outputs": [],
   "source": [
    "#wap to inherit speed of car from truck class \n",
    "# & try to find the speed of the car where\n",
    "#the distance is 20 km.\n",
    "# and the time is 2 hrs.\n",
    "\n",
    "class truck:\n",
    "    def __init__(self,distance,time):\n",
    "        self.distance = distance\n",
    "        self.time = time\n",
    "        \n",
    "        \n",
    "class car(truck):\n",
    "    def __init__(self,distance,time):\n",
    "        super().__init__(distance,time)\n",
    "        \n",
    "    def speed(self):\n",
    "        speed=self.distance/self.time\n",
    "        print(speed)\n",
    "\n",
    "c=car(50,2)        "
   ]
  },
  {
   "cell_type": "code",
   "execution_count": null,
   "id": "ee8077d9",
   "metadata": {},
   "outputs": [],
   "source": [
    "c.speed()"
   ]
  },
  {
   "cell_type": "code",
   "execution_count": null,
   "id": "9ae33d0c",
   "metadata": {},
   "outputs": [],
   "source": [
    "#wap to inherit thr property of phone class to another \n",
    "#phone class and you must have atleast one unique \n",
    "#property in both the classes.\n",
    "\n",
    "class phone1:\n",
    "    def __init__(self,price,brand,size):\n",
    "        self.price = price\n",
    "        self.brand = brand\n",
    "        self.size = size\n",
    "        \n",
    "class phone2(phone1):\n",
    "    def __init__(self,price,brand,size,camera):\n",
    "        super(). __init__(price,brand,size)\n",
    "        self.camera=camera\n",
    "        \n",
    "p=phone2(23,\"nokia\",23,\"work\")\n",
    "        "
   ]
  },
  {
   "cell_type": "code",
   "execution_count": null,
   "id": "6f80c54f",
   "metadata": {},
   "outputs": [],
   "source": [
    "p.price"
   ]
  },
  {
   "cell_type": "code",
   "execution_count": null,
   "id": "7d4c63fc",
   "metadata": {},
   "outputs": [],
   "source": [
    "#parents class to child class is 1st inheritance\n",
    "#Grand parents class to parent class is 2nd inheritance.\n"
   ]
  },
  {
   "cell_type": "markdown",
   "id": "563fcc69",
   "metadata": {},
   "source": [
    "# Multilevel Inheritance"
   ]
  },
  {
   "cell_type": "code",
   "execution_count": null,
   "id": "6297e900",
   "metadata": {},
   "outputs": [],
   "source": [
    "#gpc to pc\n",
    "class gpc:\n",
    "    def __init__(self,name):\n",
    "        self.name = name\n",
    "        \n",
    "    \n",
    "    \n",
    "class pc(gpc):\n",
    "    def __init__(self,name,age):\n",
    "        super().__init__(name)\n",
    "        self.age = age\n",
    "        \n",
    "    \n",
    "    \n",
    "class cc:\n",
    "    def __init__(self,sal):\n",
    "        self.sal = sal\n",
    "        \n",
    "p=pc(\"A\",23)        "
   ]
  },
  {
   "cell_type": "code",
   "execution_count": null,
   "id": "2fa9c8f9",
   "metadata": {},
   "outputs": [],
   "source": [
    "p.name"
   ]
  },
  {
   "cell_type": "code",
   "execution_count": null,
   "id": "82492aa1",
   "metadata": {},
   "outputs": [],
   "source": [
    "p.age"
   ]
  },
  {
   "cell_type": "code",
   "execution_count": null,
   "id": "6ea5c84d",
   "metadata": {},
   "outputs": [],
   "source": [
    "#pc to cc\n",
    "class pc:\n",
    "    def __init__(self,age):\n",
    "        self.age = age\n",
    "        \n",
    "    \n",
    "    \n",
    "class cc(pc):\n",
    "    def __init__(self,age,sal):\n",
    "        super().__init__(age)\n",
    "        self.sal = sal\n",
    "\n",
    "p=cc(23,23000)        "
   ]
  },
  {
   "cell_type": "code",
   "execution_count": null,
   "id": "9042c9f3",
   "metadata": {},
   "outputs": [],
   "source": [
    "p.age"
   ]
  },
  {
   "cell_type": "code",
   "execution_count": null,
   "id": "ea5fe8fa",
   "metadata": {},
   "outputs": [],
   "source": [
    "p.sal"
   ]
  },
  {
   "cell_type": "code",
   "execution_count": null,
   "id": "469474cd",
   "metadata": {},
   "outputs": [],
   "source": [
    "#gpc to cc\n",
    "class gpc:\n",
    "    def __init__(self,name):\n",
    "        self.name = name\n",
    "        \n",
    "class cc(gpc):\n",
    "    def __init__(self,name,sal):\n",
    "        super().__init__(name)\n",
    "        self.sal = sal   \n",
    "        \n",
    "p=cc(\"A\",23000)        "
   ]
  },
  {
   "cell_type": "code",
   "execution_count": null,
   "id": "fff1fac7",
   "metadata": {},
   "outputs": [],
   "source": [
    "p.name"
   ]
  },
  {
   "cell_type": "code",
   "execution_count": null,
   "id": "50f10a48",
   "metadata": {},
   "outputs": [],
   "source": [
    "p.sal"
   ]
  },
  {
   "cell_type": "code",
   "execution_count": null,
   "id": "8592c917",
   "metadata": {},
   "outputs": [],
   "source": [
    "class gpc:\n",
    "    def __init__(self,name):\n",
    "        self.name = name\n",
    "        \n",
    "    \n",
    "    \n",
    "class pc(gpc):\n",
    "    def __init__(self,name,age):\n",
    "        super().__init__(name)\n",
    "        self.age = age\n",
    "        \n",
    "    \n",
    "    \n",
    "class cc:\n",
    "    def __init__(self,name,age,sal):\n",
    "        super().__init__(name)\n",
    "        self.sal = sal"
   ]
  },
  {
   "cell_type": "code",
   "execution_count": null,
   "id": "90eeb3e4",
   "metadata": {},
   "outputs": [],
   "source": [
    "p.name"
   ]
  },
  {
   "cell_type": "code",
   "execution_count": null,
   "id": "b4791def",
   "metadata": {},
   "outputs": [],
   "source": [
    "p.age"
   ]
  },
  {
   "cell_type": "code",
   "execution_count": null,
   "id": "4778d23d",
   "metadata": {},
   "outputs": [],
   "source": [
    "p.sal"
   ]
  },
  {
   "cell_type": "markdown",
   "id": "4221e242",
   "metadata": {},
   "source": [
    "# Encapsulation"
   ]
  },
  {
   "cell_type": "code",
   "execution_count": null,
   "id": "d64ceafc",
   "metadata": {},
   "outputs": [],
   "source": [
    "#Hide the data form the user."
   ]
  },
  {
   "cell_type": "code",
   "execution_count": null,
   "id": "23af294d",
   "metadata": {},
   "outputs": [],
   "source": [
    "# Access modifiers in encapsulation\n",
    "#1.Public\n",
    "#2.Private(__)\n",
    "#3.protected(_)"
   ]
  },
  {
   "cell_type": "code",
   "execution_count": null,
   "id": "6a6ad4c1",
   "metadata": {},
   "outputs": [],
   "source": [
    "#Public\n",
    "\n",
    "class student:\n",
    "    def info(self,name,age):\n",
    "        print(name,age)\n",
    "        \n",
    "s = student()   \n",
    "s.info(\"A\",34)"
   ]
  },
  {
   "cell_type": "code",
   "execution_count": null,
   "id": "cdf66b53",
   "metadata": {},
   "outputs": [],
   "source": [
    "#Private\n",
    "\n",
    "class student:\n",
    "    def info(self,name,age):\n",
    "        print(name,age)\n",
    "        \n",
    "    def __detail(self,marks):   \n",
    "        print(marks)\n",
    "        \n",
    "s = student()\n",
    "s.info(\"A\",34)\n",
    "s.__detail(90)"
   ]
  },
  {
   "cell_type": "code",
   "execution_count": null,
   "id": "80f75fbd",
   "metadata": {},
   "outputs": [],
   "source": [
    "#With constructor\n",
    "\n",
    "\n",
    "class a:\n",
    "    def __init__(self,__greet):\n",
    "        self.__greet = __greet\n",
    "        \n",
    "        \n",
    "    def add(self,x,y):\n",
    "        return x+y\n",
    "        \n",
    "x = a('hello')  \n",
    "x.add(1,2)\n",
    "x.__greet"
   ]
  },
  {
   "cell_type": "code",
   "execution_count": null,
   "id": "ed550ccf",
   "metadata": {},
   "outputs": [],
   "source": [
    "#protected----->\n",
    "\n",
    "class emp:\n",
    "    def _info(self,salary,leaves):\n",
    "        print(salary)\n",
    "        print(leaves)\n",
    "        \n",
    "e =emp()\n",
    "e._info(2,0)"
   ]
  },
  {
   "cell_type": "code",
   "execution_count": null,
   "id": "d5706a97",
   "metadata": {},
   "outputs": [],
   "source": [
    "class a:\n",
    "    def __init__(self,_greet):\n",
    "        self._greet = _greet\n",
    "        \n",
    "x = a('hello')  \n",
    "x._greet        "
   ]
  },
  {
   "cell_type": "code",
   "execution_count": null,
   "id": "1f877515",
   "metadata": {},
   "outputs": [],
   "source": [
    "#wap to performe inheritance between two classess\n",
    "#having private and protected code to find student is pass or fail in exam.\n",
    "\n",
    "class student1:\n",
    "    def __init__(self,__name,_marks):\n",
    "        self.__name = __name\n",
    "        self._marks = _marks\n",
    "        \n",
    "    \n",
    "\n",
    "    \n",
    "class student2(student1):\n",
    "    def __init__(self,__name,_marks,address):\n",
    "        super().__init__(__name,_marks)\n",
    "        self.address = address\n",
    "        \n",
    "        if self._marks>35:\n",
    "            print(\"pass\")\n",
    "            \n",
    "        else:\n",
    "            print(\"fail\")\n",
    "        \n",
    "s = student2(\"Prayas\",34,'Delhi')        "
   ]
  },
  {
   "cell_type": "code",
   "execution_count": null,
   "id": "c05cb326",
   "metadata": {},
   "outputs": [],
   "source": [
    "s.name"
   ]
  },
  {
   "cell_type": "code",
   "execution_count": null,
   "id": "6113588e",
   "metadata": {},
   "outputs": [],
   "source": [
    "s._marks"
   ]
  },
  {
   "cell_type": "code",
   "execution_count": null,
   "id": "8b66eadf",
   "metadata": {},
   "outputs": [],
   "source": [
    "s.address"
   ]
  },
  {
   "cell_type": "code",
   "execution_count": null,
   "id": "a85f38f9",
   "metadata": {},
   "outputs": [],
   "source": [
    "#wap to find the speed of the car with respect truck\n",
    "#1. your distance is inherited by truck class to car class\n",
    "#2. your time will be protected mode\n",
    "#3. none of the attribute is in public and private mode.\n",
    "#4. fine the ratio of the speed also.\n",
    "\n",
    "\n",
    "\n",
    "class truck:\n",
    "    def __init__(self,__distance,_time):\n",
    "        self.__distance = __distance\n",
    "        self._time = _time\n",
    "        \n",
    "    \n",
    "class car(truck):    \n",
    "    def __init__(self,__distance,_time):\n",
    "        super().__init__(__distance,_time)\n",
    "        \n",
    "    def speed(self):\n",
    "        speed = self.__distance/self._time\n",
    "        return speed\n",
    "    \n",
    "        \n",
    "    \n",
    "d =car(50,2)    "
   ]
  },
  {
   "cell_type": "code",
   "execution_count": null,
   "id": "5e1d251f",
   "metadata": {},
   "outputs": [],
   "source": [
    "c.speed()"
   ]
  },
  {
   "cell_type": "markdown",
   "id": "cf36a999",
   "metadata": {},
   "source": [
    "# Polymerphism"
   ]
  },
  {
   "cell_type": "code",
   "execution_count": null,
   "id": "4436c0c2",
   "metadata": {},
   "outputs": [],
   "source": [
    "#Poly:- Many\n",
    "#Phism:- Form \n",
    "\n",
    "#Polymerphism:- Two types of polymerphism. \n",
    " #1.Overloading #2.Overriding.\n",
    "\n",
    "    \n",
    "#Python is support only function overloading.    \n",
    "\n",
    "#Overloading have two types\n",
    "#1. Operator Overloading\n",
    "#2. Function Overloading / Method Overloading"
   ]
  },
  {
   "cell_type": "code",
   "execution_count": 8,
   "id": "73102c8f",
   "metadata": {},
   "outputs": [
    {
     "data": {
      "text/plain": [
       "3"
      ]
     },
     "execution_count": 8,
     "metadata": {},
     "output_type": "execute_result"
    }
   ],
   "source": [
    "# Operator overloading\n",
    "\n",
    "# convert these codes into oops also\n",
    "\n",
    "a = 1\n",
    "b = 2\n",
    "c = a+b\n",
    "c"
   ]
  },
  {
   "cell_type": "code",
   "execution_count": 9,
   "id": "cdef9bb7",
   "metadata": {},
   "outputs": [
    {
     "data": {
      "text/plain": [
       "'hello2'"
      ]
     },
     "execution_count": 9,
     "metadata": {},
     "output_type": "execute_result"
    }
   ],
   "source": [
    "a = 'hello'\n",
    "b = '2'\n",
    "c = a+b\n",
    "c"
   ]
  },
  {
   "cell_type": "code",
   "execution_count": 10,
   "id": "d830c77e",
   "metadata": {},
   "outputs": [
    {
     "data": {
      "text/plain": [
       "3"
      ]
     },
     "execution_count": 10,
     "metadata": {},
     "output_type": "execute_result"
    }
   ],
   "source": [
    "#Overloading\n",
    "\n",
    "class add:\n",
    "    def fun(self,a,b):\n",
    "        self.a = a\n",
    "        self.b = b\n",
    "        c=self.a+self.b\n",
    "        return c\n",
    "    \n",
    "s=add()\n",
    "s.fun(1,2)"
   ]
  },
  {
   "cell_type": "code",
   "execution_count": 12,
   "id": "cc792935",
   "metadata": {},
   "outputs": [
    {
     "data": {
      "text/plain": [
       "10"
      ]
     },
     "execution_count": 12,
     "metadata": {},
     "output_type": "execute_result"
    }
   ],
   "source": [
    "# function/method overloading.\n",
    "# default argumnets.\n",
    "\n",
    "\n",
    "def add(x,y):\n",
    "    result = x+y\n",
    "    return result\n",
    "add(4,6)"
   ]
  },
  {
   "cell_type": "code",
   "execution_count": 13,
   "id": "c6fed418",
   "metadata": {},
   "outputs": [
    {
     "data": {
      "text/plain": [
       "10"
      ]
     },
     "execution_count": 13,
     "metadata": {},
     "output_type": "execute_result"
    }
   ],
   "source": [
    "add(3,7)"
   ]
  },
  {
   "cell_type": "code",
   "execution_count": 17,
   "id": "9bc6eb18",
   "metadata": {},
   "outputs": [
    {
     "ename": "TypeError",
     "evalue": "add() missing 1 required positional argument: 'x'",
     "output_type": "error",
     "traceback": [
      "\u001b[1;31m---------------------------------------------------------------------------\u001b[0m",
      "\u001b[1;31mTypeError\u001b[0m                                 Traceback (most recent call last)",
      "Input \u001b[1;32mIn [17]\u001b[0m, in \u001b[0;36m<cell line: 4>\u001b[1;34m()\u001b[0m\n\u001b[0;32m      2\u001b[0m     result \u001b[38;5;241m=\u001b[39m x\u001b[38;5;241m+\u001b[39my\n\u001b[0;32m      3\u001b[0m     \u001b[38;5;28;01mreturn\u001b[39;00m result\n\u001b[1;32m----> 4\u001b[0m \u001b[43madd\u001b[49m\u001b[43m(\u001b[49m\u001b[43m)\u001b[49m\n",
      "\u001b[1;31mTypeError\u001b[0m: add() missing 1 required positional argument: 'x'"
     ]
    }
   ],
   "source": [
    "def add(x,y=8):\n",
    "    result = x+y\n",
    "    return result\n",
    "add()"
   ]
  },
  {
   "cell_type": "code",
   "execution_count": 18,
   "id": "8e0064e5",
   "metadata": {},
   "outputs": [
    {
     "data": {
      "text/plain": [
       "10"
      ]
     },
     "execution_count": 18,
     "metadata": {},
     "output_type": "execute_result"
    }
   ],
   "source": [
    "add(4,6)"
   ]
  },
  {
   "cell_type": "code",
   "execution_count": 19,
   "id": "eee2fc3e",
   "metadata": {},
   "outputs": [
    {
     "ename": "SyntaxError",
     "evalue": "invalid syntax (207733752.py, line 1)",
     "output_type": "error",
     "traceback": [
      "\u001b[1;36m  Input \u001b[1;32mIn [19]\u001b[1;36m\u001b[0m\n\u001b[1;33m    add(,7)\u001b[0m\n\u001b[1;37m        ^\u001b[0m\n\u001b[1;31mSyntaxError\u001b[0m\u001b[1;31m:\u001b[0m invalid syntax\n"
     ]
    }
   ],
   "source": [
    "add(,7)"
   ]
  },
  {
   "cell_type": "code",
   "execution_count": 20,
   "id": "d7ad0370",
   "metadata": {},
   "outputs": [
    {
     "ename": "SyntaxError",
     "evalue": "non-default argument follows default argument (1015395560.py, line 1)",
     "output_type": "error",
     "traceback": [
      "\u001b[1;36m  Input \u001b[1;32mIn [20]\u001b[1;36m\u001b[0m\n\u001b[1;33m    def add(x=1,y):\u001b[0m\n\u001b[1;37m                 ^\u001b[0m\n\u001b[1;31mSyntaxError\u001b[0m\u001b[1;31m:\u001b[0m non-default argument follows default argument\n"
     ]
    }
   ],
   "source": [
    "def add(x=1,y):\n",
    "    result = x+y\n",
    "    return result\n",
    "add(2,4)"
   ]
  },
  {
   "cell_type": "code",
   "execution_count": 16,
   "id": "3d577b27",
   "metadata": {},
   "outputs": [
    {
     "data": {
      "text/plain": [
       "12"
      ]
     },
     "execution_count": 16,
     "metadata": {},
     "output_type": "execute_result"
    }
   ],
   "source": [
    "add(3,9)"
   ]
  },
  {
   "cell_type": "code",
   "execution_count": 40,
   "id": "bcb24404",
   "metadata": {},
   "outputs": [
    {
     "data": {
      "text/plain": [
       "9"
      ]
     },
     "execution_count": 40,
     "metadata": {},
     "output_type": "execute_result"
    }
   ],
   "source": [
    "def add(x=1,y=8):\n",
    "    result = x+y\n",
    "    return result\n",
    "add()"
   ]
  },
  {
   "cell_type": "markdown",
   "id": "f110d9f9",
   "metadata": {},
   "source": [
    "# convert the code in oops.\n"
   ]
  },
  {
   "cell_type": "code",
   "execution_count": 43,
   "id": "a6e42392",
   "metadata": {},
   "outputs": [
    {
     "data": {
      "text/plain": [
       "10"
      ]
     },
     "execution_count": 43,
     "metadata": {},
     "output_type": "execute_result"
    }
   ],
   "source": [
    "class add:\n",
    "    def func(self,a,b=8):\n",
    "        self.a = a\n",
    "        self.b = b\n",
    "        result=a+b\n",
    "        return result\n",
    "x=add()\n",
    "x.func(4,6)\n"
   ]
  },
  {
   "cell_type": "code",
   "execution_count": 30,
   "id": "f73bde5d",
   "metadata": {},
   "outputs": [
    {
     "data": {
      "text/plain": [
       "10"
      ]
     },
     "execution_count": 30,
     "metadata": {},
     "output_type": "execute_result"
    }
   ],
   "source": [
    "x.func(3,7)"
   ]
  },
  {
   "cell_type": "code",
   "execution_count": 33,
   "id": "406da684",
   "metadata": {},
   "outputs": [
    {
     "ename": "TypeError",
     "evalue": "func() missing 1 required positional argument: 'a'",
     "output_type": "error",
     "traceback": [
      "\u001b[1;31m---------------------------------------------------------------------------\u001b[0m",
      "\u001b[1;31mTypeError\u001b[0m                                 Traceback (most recent call last)",
      "Input \u001b[1;32mIn [33]\u001b[0m, in \u001b[0;36m<cell line: 8>\u001b[1;34m()\u001b[0m\n\u001b[0;32m      6\u001b[0m         \u001b[38;5;28;01mreturn\u001b[39;00m result\n\u001b[0;32m      7\u001b[0m x\u001b[38;5;241m=\u001b[39madd()\n\u001b[1;32m----> 8\u001b[0m \u001b[43mx\u001b[49m\u001b[38;5;241;43m.\u001b[39;49m\u001b[43mfunc\u001b[49m\u001b[43m(\u001b[49m\u001b[43m)\u001b[49m\n",
      "\u001b[1;31mTypeError\u001b[0m: func() missing 1 required positional argument: 'a'"
     ]
    }
   ],
   "source": [
    "\n",
    "class add:\n",
    "    def func(self,a,b=8):\n",
    "        self.a = a\n",
    "        self.b = b\n",
    "        result=a+b\n",
    "        return result\n",
    "x=add()\n",
    "x.func()"
   ]
  },
  {
   "cell_type": "code",
   "execution_count": 34,
   "id": "a0a0ae44",
   "metadata": {},
   "outputs": [
    {
     "data": {
      "text/plain": [
       "10"
      ]
     },
     "execution_count": 34,
     "metadata": {},
     "output_type": "execute_result"
    }
   ],
   "source": [
    "class add:\n",
    "    def func(self,a,b=8):\n",
    "        self.a = a\n",
    "        self.b = b\n",
    "        result=a+b\n",
    "        return result\n",
    "x=add()\n",
    "x.func(4,6)"
   ]
  },
  {
   "cell_type": "code",
   "execution_count": 35,
   "id": "7e0a13eb",
   "metadata": {},
   "outputs": [
    {
     "ename": "SyntaxError",
     "evalue": "invalid syntax (3005588107.py, line 8)",
     "output_type": "error",
     "traceback": [
      "\u001b[1;36m  Input \u001b[1;32mIn [35]\u001b[1;36m\u001b[0m\n\u001b[1;33m    x.func(,7)\u001b[0m\n\u001b[1;37m           ^\u001b[0m\n\u001b[1;31mSyntaxError\u001b[0m\u001b[1;31m:\u001b[0m invalid syntax\n"
     ]
    }
   ],
   "source": [
    "class add:\n",
    "    def func(self,a,b=8):\n",
    "        self.a = a\n",
    "        self.b = b\n",
    "        result=a+b\n",
    "        return result\n",
    "x=add()\n",
    "x.func(,7)"
   ]
  },
  {
   "cell_type": "code",
   "execution_count": 38,
   "id": "43a97737",
   "metadata": {},
   "outputs": [
    {
     "ename": "SyntaxError",
     "evalue": "non-default argument follows default argument (1846707986.py, line 2)",
     "output_type": "error",
     "traceback": [
      "\u001b[1;36m  Input \u001b[1;32mIn [38]\u001b[1;36m\u001b[0m\n\u001b[1;33m    def func(self,a=1,b):\u001b[0m\n\u001b[1;37m                       ^\u001b[0m\n\u001b[1;31mSyntaxError\u001b[0m\u001b[1;31m:\u001b[0m non-default argument follows default argument\n"
     ]
    }
   ],
   "source": [
    "class add:\n",
    "    def func(self,a=1,b):\n",
    "        self.a = a\n",
    "        self.b = b\n",
    "        result=a+b\n",
    "        return result\n",
    "x=add()\n",
    "x.func(4,6)"
   ]
  },
  {
   "cell_type": "code",
   "execution_count": 39,
   "id": "edd3d96f",
   "metadata": {},
   "outputs": [
    {
     "ename": "SyntaxError",
     "evalue": "non-default argument follows default argument (1846707986.py, line 2)",
     "output_type": "error",
     "traceback": [
      "\u001b[1;36m  Input \u001b[1;32mIn [39]\u001b[1;36m\u001b[0m\n\u001b[1;33m    def func(self,a=1,b):\u001b[0m\n\u001b[1;37m                       ^\u001b[0m\n\u001b[1;31mSyntaxError\u001b[0m\u001b[1;31m:\u001b[0m non-default argument follows default argument\n"
     ]
    }
   ],
   "source": [
    "class add:\n",
    "    def func(self,a=1,b):\n",
    "        self.a = a\n",
    "        self.b = b\n",
    "        result=a+b\n",
    "        return result\n",
    "x=add()\n",
    "x.func(4,6)"
   ]
  },
  {
   "cell_type": "code",
   "execution_count": 41,
   "id": "2ebeff96",
   "metadata": {},
   "outputs": [
    {
     "data": {
      "text/plain": [
       "12"
      ]
     },
     "execution_count": 41,
     "metadata": {},
     "output_type": "execute_result"
    }
   ],
   "source": [
    "x.func(3,9)"
   ]
  },
  {
   "cell_type": "code",
   "execution_count": 42,
   "id": "5aceb634",
   "metadata": {},
   "outputs": [
    {
     "data": {
      "text/plain": [
       "9"
      ]
     },
     "execution_count": 42,
     "metadata": {},
     "output_type": "execute_result"
    }
   ],
   "source": [
    "class add:\n",
    "    def func(self,a=1,b=8):\n",
    "        self.a = a\n",
    "        self.b = b\n",
    "        result=a+b\n",
    "        return result\n",
    "x=add()\n",
    "x.func()"
   ]
  },
  {
   "cell_type": "markdown",
   "id": "3594774e",
   "metadata": {},
   "source": [
    "# Abstraction"
   ]
  },
  {
   "cell_type": "code",
   "execution_count": null,
   "id": "cc5cd778",
   "metadata": {},
   "outputs": [],
   "source": [
    "#Hiding the data------->Hiding the complexity of the data\n",
    "#modules ABC,abstractmethod.\n",
    "\n",
    "from abc import ABC,abstractmethod\n",
    "\n",
    "class a(ABC):\n",
    "    @abstractmethod\n",
    "    def __init__(self,modal,price):\n",
    "        self.modal = modal\n",
    "        self.price = price\n",
    "        \n",
    "class b(a):\n",
    "    def __init__(self,modal,price, processor):\n",
    "        \n",
    "        super().__init__(modal,price)\n",
    "        self.processor = processor\n",
    "        \n",
    "        \n",
    "    \n",
    "p=a(\"Redmi\",14000,\"snapdragon\")    "
   ]
  },
  {
   "cell_type": "code",
   "execution_count": null,
   "id": "ecbcb90d",
   "metadata": {},
   "outputs": [],
   "source": [
    "p.modal"
   ]
  },
  {
   "cell_type": "code",
   "execution_count": null,
   "id": "3b010b9a",
   "metadata": {},
   "outputs": [],
   "source": [
    "p.price"
   ]
  },
  {
   "cell_type": "code",
   "execution_count": null,
   "id": "75be258c",
   "metadata": {},
   "outputs": [],
   "source": [
    "p.processor"
   ]
  },
  {
   "cell_type": "code",
   "execution_count": null,
   "id": "c4001bec",
   "metadata": {},
   "outputs": [],
   "source": [
    "#wap to make a ABC and try to find the salary of only one employe\n",
    "\n",
    "from abc import ABC,abstractmethod\n",
    "\n",
    "class a(ABC):\n",
    "    @abstractmethod\n",
    "    def info(self):\n",
    "        salary = 20000\n",
    "        return salary\n",
    "        \n",
    "        \n",
    "class b(a):\n",
    "    def detail(self):\n",
    "        salary2 = 30000\n",
    "        return salary2\n",
    "    \n",
    "x = b()\n",
    "x.detail()\n",
    "        \n",
    "    "
   ]
  },
  {
   "cell_type": "code",
   "execution_count": null,
   "id": "cf2cc778",
   "metadata": {},
   "outputs": [],
   "source": [
    "x.info()"
   ]
  },
  {
   "cell_type": "code",
   "execution_count": 2,
   "id": "9dfb59bc",
   "metadata": {},
   "outputs": [
    {
     "ename": "TypeError",
     "evalue": "Can't instantiate abstract class b with abstract method info",
     "output_type": "error",
     "traceback": [
      "\u001b[1;31m---------------------------------------------------------------------------\u001b[0m",
      "\u001b[1;31mTypeError\u001b[0m                                 Traceback (most recent call last)",
      "Input \u001b[1;32mIn [2]\u001b[0m, in \u001b[0;36m<cell line: 12>\u001b[1;34m()\u001b[0m\n\u001b[0;32m      9\u001b[0m         salary2 \u001b[38;5;241m=\u001b[39m \u001b[38;5;241m30000\u001b[39m\n\u001b[0;32m     10\u001b[0m         \u001b[38;5;28;01mreturn\u001b[39;00m salary2\n\u001b[1;32m---> 12\u001b[0m x \u001b[38;5;241m=\u001b[39m \u001b[43mb\u001b[49m\u001b[43m(\u001b[49m\u001b[43m)\u001b[49m\n\u001b[0;32m     13\u001b[0m x\u001b[38;5;241m.\u001b[39mdetail()\n",
      "\u001b[1;31mTypeError\u001b[0m: Can't instantiate abstract class b with abstract method info"
     ]
    }
   ],
   "source": [
    "class a(ABC):\n",
    "    @abstractmethod\n",
    "    def info(self):\n",
    "        salary = 20000\n",
    "        return salary\n",
    "    \n",
    "class b(a):\n",
    "    def detail(self):\n",
    "        salary2 = 30000\n",
    "        return salary2\n",
    "    \n",
    "x = b()\n",
    "x.detail()"
   ]
  },
  {
   "cell_type": "code",
   "execution_count": 3,
   "id": "24f7b47b",
   "metadata": {},
   "outputs": [
    {
     "ename": "NameError",
     "evalue": "name 'x' is not defined",
     "output_type": "error",
     "traceback": [
      "\u001b[1;31m---------------------------------------------------------------------------\u001b[0m",
      "\u001b[1;31mNameError\u001b[0m                                 Traceback (most recent call last)",
      "Input \u001b[1;32mIn [3]\u001b[0m, in \u001b[0;36m<cell line: 1>\u001b[1;34m()\u001b[0m\n\u001b[1;32m----> 1\u001b[0m \u001b[43mx\u001b[49m\u001b[38;5;241m.\u001b[39minfo()\n",
      "\u001b[1;31mNameError\u001b[0m: name 'x' is not defined"
     ]
    }
   ],
   "source": [
    "x.info()"
   ]
  },
  {
   "cell_type": "code",
   "execution_count": 6,
   "id": "14ce8b2e",
   "metadata": {},
   "outputs": [
    {
     "ename": "TypeError",
     "evalue": "Can't instantiate abstract class b with abstract method info",
     "output_type": "error",
     "traceback": [
      "\u001b[1;31m---------------------------------------------------------------------------\u001b[0m",
      "\u001b[1;31mTypeError\u001b[0m                                 Traceback (most recent call last)",
      "Input \u001b[1;32mIn [6]\u001b[0m, in \u001b[0;36m<cell line: 12>\u001b[1;34m()\u001b[0m\n\u001b[0;32m      9\u001b[0m         salary2 \u001b[38;5;241m=\u001b[39m \u001b[38;5;241m30000\u001b[39m\n\u001b[0;32m     10\u001b[0m         \u001b[38;5;28;01mreturn\u001b[39;00m salary2\n\u001b[1;32m---> 12\u001b[0m x \u001b[38;5;241m=\u001b[39m \u001b[43mb\u001b[49m\u001b[43m(\u001b[49m\u001b[43m)\u001b[49m\n\u001b[0;32m     13\u001b[0m x\u001b[38;5;241m.\u001b[39mdetail()\n",
      "\u001b[1;31mTypeError\u001b[0m: Can't instantiate abstract class b with abstract method info"
     ]
    }
   ],
   "source": [
    "class a(ABC):\n",
    "    @abstractmethod\n",
    "    def info(self):\n",
    "        salary = 20000\n",
    "        return salary\n",
    "    \n",
    "class b(a):\n",
    "    def detail(self):\n",
    "        salary2 = 30000\n",
    "        return salary2\n",
    "    \n",
    "x = b()\n",
    "x.detail()"
   ]
  },
  {
   "cell_type": "code",
   "execution_count": 7,
   "id": "893c0505",
   "metadata": {},
   "outputs": [
    {
     "ename": "NameError",
     "evalue": "name 'x' is not defined",
     "output_type": "error",
     "traceback": [
      "\u001b[1;31m---------------------------------------------------------------------------\u001b[0m",
      "\u001b[1;31mNameError\u001b[0m                                 Traceback (most recent call last)",
      "Input \u001b[1;32mIn [7]\u001b[0m, in \u001b[0;36m<cell line: 1>\u001b[1;34m()\u001b[0m\n\u001b[1;32m----> 1\u001b[0m \u001b[43mx\u001b[49m\u001b[38;5;241m.\u001b[39minfo()\n",
      "\u001b[1;31mNameError\u001b[0m: name 'x' is not defined"
     ]
    }
   ],
   "source": [
    "x.info()"
   ]
  },
  {
   "cell_type": "code",
   "execution_count": null,
   "id": "864b41af",
   "metadata": {},
   "outputs": [],
   "source": []
  }
 ],
 "metadata": {
  "kernelspec": {
   "display_name": "Python 3 (ipykernel)",
   "language": "python",
   "name": "python3"
  },
  "language_info": {
   "codemirror_mode": {
    "name": "ipython",
    "version": 3
   },
   "file_extension": ".py",
   "mimetype": "text/x-python",
   "name": "python",
   "nbconvert_exporter": "python",
   "pygments_lexer": "ipython3",
   "version": "3.9.12"
  }
 },
 "nbformat": 4,
 "nbformat_minor": 5
}
