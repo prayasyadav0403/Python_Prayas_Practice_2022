{
 "cells": [
  {
   "cell_type": "code",
   "execution_count": 2,
   "id": "cfdd9885",
   "metadata": {},
   "outputs": [],
   "source": [
    "#Loop:-------->We have two loop in the python.\n",
    "#1. For Loop \n",
    "#2. While Loop\n",
    "\n",
    "#For_Loop:------> #In this loop the range is defining compulsory.\n",
    "#we have limit in this loop.\n",
    "\n",
    "\n",
    "    \n",
    "    \n",
    "                  \n",
    "        \n",
    "#While_Loop:----> #We have no limit in this loop.\n",
    "\n",
    "\n"
   ]
  },
  {
   "cell_type": "code",
   "execution_count": 3,
   "id": "a9945c2f",
   "metadata": {},
   "outputs": [
    {
     "name": "stdout",
     "output_type": "stream",
     "text": [
      "0\n",
      "1\n",
      "2\n",
      "3\n",
      "4\n",
      "5\n",
      "6\n",
      "7\n",
      "8\n",
      "9\n"
     ]
    }
   ],
   "source": [
    "#For and While Loop:\n",
    "\n",
    "#Syntax For for loop\n",
    "\n",
    "# for varible in range(define the range):\n",
    "#     print(variable)\n",
    "\n",
    "#wap to print from 0-10\n",
    "\n",
    "for i in range(10):\n",
    "    print(i)\n",
    "    \n",
    "#Exclude the ending point.\n",
    "#Run at only n-1    "
   ]
  },
  {
   "cell_type": "code",
   "execution_count": 4,
   "id": "5a1f95fe",
   "metadata": {},
   "outputs": [
    {
     "name": "stdout",
     "output_type": "stream",
     "text": [
      "2\n",
      "3\n",
      "4\n",
      "5\n",
      "6\n",
      "7\n",
      "8\n",
      "9\n"
     ]
    }
   ],
   "source": [
    "#wap to print numberzs from 2-10\n",
    "for i in range(2,10):\n",
    "    print(i)"
   ]
  },
  {
   "cell_type": "code",
   "execution_count": 5,
   "id": "c550198d",
   "metadata": {},
   "outputs": [
    {
     "name": "stdout",
     "output_type": "stream",
     "text": [
      "1\n",
      "3\n",
      "5\n",
      "7\n",
      "9\n",
      "11\n",
      "13\n",
      "15\n",
      "17\n",
      "19\n",
      "21\n",
      "23\n",
      "25\n",
      "27\n",
      "29\n",
      "31\n",
      "33\n",
      "35\n",
      "37\n",
      "39\n",
      "41\n",
      "43\n",
      "45\n",
      "47\n",
      "49\n"
     ]
    }
   ],
   "source": [
    "#wap to find the number from 1-50 \n",
    "# number should be in alternative form.\n",
    "\n",
    "for i in range(1,51,2):\n",
    "    print(i)\n",
    "    \n",
    "#Into the range function we passes the the 3 arguments.\n",
    "#1:- Starting Point\n",
    "#2:- Ending Point\n",
    "#3:- Step Size (Also have n-1 value)"
   ]
  },
  {
   "cell_type": "code",
   "execution_count": 6,
   "id": "6606ce53",
   "metadata": {},
   "outputs": [
    {
     "name": "stdout",
     "output_type": "stream",
     "text": [
      "Number is odd-----------> 1\n",
      "Number is even 2\n",
      "Number is odd-----------> 3\n",
      "Number is even 4\n",
      "Number is odd-----------> 5\n",
      "Number is even 6\n",
      "Number is odd-----------> 7\n",
      "Number is even 8\n",
      "Number is odd-----------> 9\n",
      "Number is even 10\n",
      "Number is odd-----------> 11\n",
      "Number is even 12\n",
      "Number is odd-----------> 13\n",
      "Number is even 14\n",
      "Number is odd-----------> 15\n",
      "Number is even 16\n",
      "Number is odd-----------> 17\n",
      "Number is even 18\n",
      "Number is odd-----------> 19\n",
      "Number is even 20\n",
      "Number is odd-----------> 21\n",
      "Number is even 22\n",
      "Number is odd-----------> 23\n",
      "Number is even 24\n",
      "Number is odd-----------> 25\n",
      "Number is even 26\n",
      "Number is odd-----------> 27\n",
      "Number is even 28\n",
      "Number is odd-----------> 29\n",
      "Number is even 30\n",
      "Number is odd-----------> 31\n",
      "Number is even 32\n",
      "Number is odd-----------> 33\n",
      "Number is even 34\n",
      "Number is odd-----------> 35\n",
      "Number is even 36\n",
      "Number is odd-----------> 37\n",
      "Number is even 38\n",
      "Number is odd-----------> 39\n",
      "Number is even 40\n",
      "Number is odd-----------> 41\n",
      "Number is even 42\n",
      "Number is odd-----------> 43\n",
      "Number is even 44\n",
      "Number is odd-----------> 45\n",
      "Number is even 46\n",
      "Number is odd-----------> 47\n",
      "Number is even 48\n",
      "Number is odd-----------> 49\n",
      "Number is even 50\n",
      "Number is odd-----------> 51\n",
      "Number is even 52\n",
      "Number is odd-----------> 53\n",
      "Number is even 54\n",
      "Number is odd-----------> 55\n",
      "Number is even 56\n",
      "Number is odd-----------> 57\n",
      "Number is even 58\n",
      "Number is odd-----------> 59\n",
      "Number is even 60\n",
      "Number is odd-----------> 61\n",
      "Number is even 62\n",
      "Number is odd-----------> 63\n",
      "Number is even 64\n",
      "Number is odd-----------> 65\n",
      "Number is even 66\n",
      "Number is odd-----------> 67\n",
      "Number is even 68\n",
      "Number is odd-----------> 69\n",
      "Number is even 70\n",
      "Number is odd-----------> 71\n",
      "Number is even 72\n",
      "Number is odd-----------> 73\n",
      "Number is even 74\n",
      "Number is odd-----------> 75\n",
      "Number is even 76\n",
      "Number is odd-----------> 77\n",
      "Number is even 78\n",
      "Number is odd-----------> 79\n",
      "Number is even 80\n",
      "Number is odd-----------> 81\n",
      "Number is even 82\n",
      "Number is odd-----------> 83\n",
      "Number is even 84\n",
      "Number is odd-----------> 85\n",
      "Number is even 86\n",
      "Number is odd-----------> 87\n",
      "Number is even 88\n",
      "Number is odd-----------> 89\n",
      "Number is even 90\n",
      "Number is odd-----------> 91\n",
      "Number is even 92\n",
      "Number is odd-----------> 93\n",
      "Number is even 94\n",
      "Number is odd-----------> 95\n",
      "Number is even 96\n",
      "Number is odd-----------> 97\n",
      "Number is even 98\n",
      "Number is odd-----------> 99\n"
     ]
    }
   ],
   "source": [
    "#wap to print odd even number from 1-100.\n",
    "\n",
    "for i in range(1,100):\n",
    "    if i % 2 == 0 :\n",
    "        print(\"Number is even\",i)\n",
    "        \n",
    "    else:\n",
    "        print(\"Number is odd----------->\",i)"
   ]
  },
  {
   "cell_type": "code",
   "execution_count": 7,
   "id": "06711045",
   "metadata": {},
   "outputs": [
    {
     "name": "stdout",
     "output_type": "stream",
     "text": [
      "-10\n",
      "-9\n",
      "-8\n",
      "-7\n",
      "-6\n",
      "-5\n",
      "-4\n",
      "-3\n",
      "-2\n",
      "-1\n",
      "0\n",
      "1\n",
      "2\n",
      "3\n",
      "4\n",
      "5\n",
      "6\n",
      "7\n",
      "8\n",
      "9\n",
      "10\n"
     ]
    }
   ],
   "source": [
    "#wap to print numbers from -10 to 10.\n",
    "#wap to print numbers from 10 to -10.\n",
    "\n",
    "for i in range(-10,11):\n",
    "    print(i)"
   ]
  },
  {
   "cell_type": "code",
   "execution_count": 8,
   "id": "e57bb2a1",
   "metadata": {},
   "outputs": [
    {
     "name": "stdout",
     "output_type": "stream",
     "text": [
      "10\n",
      "9\n",
      "8\n",
      "7\n",
      "6\n",
      "5\n",
      "4\n",
      "3\n",
      "2\n",
      "1\n",
      "0\n",
      "-1\n",
      "-2\n",
      "-3\n",
      "-4\n",
      "-5\n",
      "-6\n",
      "-7\n",
      "-8\n",
      "-9\n",
      "-10\n"
     ]
    }
   ],
   "source": [
    "for i in range(10,-11,-1):\n",
    "    print(i)"
   ]
  },
  {
   "cell_type": "code",
   "execution_count": 9,
   "id": "6d1c8091",
   "metadata": {},
   "outputs": [
    {
     "name": "stdout",
     "output_type": "stream",
     "text": [
      "1\n",
      "2\n",
      "3\n",
      "4\n",
      "5\n",
      "6\n",
      "7\n",
      "8\n",
      "9\n",
      "10\n"
     ]
    }
   ],
   "source": [
    "#while loop----->\n",
    "\n",
    "# 1.initialize\n",
    "# 2. condition\n",
    "# 3.increment/decrement\n",
    "\n",
    "\n",
    "# 1-10---->\n",
    "\n",
    "\n",
    "x = 1\n",
    "\n",
    "while x<=10:\n",
    "    \n",
    "    print(x)\n",
    "    x = x+1"
   ]
  },
  {
   "cell_type": "code",
   "execution_count": 10,
   "id": "540121ec",
   "metadata": {},
   "outputs": [
    {
     "name": "stdout",
     "output_type": "stream",
     "text": [
      "1\n",
      "2\n",
      "3\n",
      "4\n",
      "5\n",
      "6\n",
      "7\n",
      "8\n",
      "9\n",
      "10\n"
     ]
    }
   ],
   "source": [
    "x = 1\n",
    "\n",
    "while x<=10:\n",
    "    \n",
    "    print(x)\n",
    "    x+=1"
   ]
  },
  {
   "cell_type": "code",
   "execution_count": 11,
   "id": "d1a3bc44",
   "metadata": {},
   "outputs": [
    {
     "name": "stdout",
     "output_type": "stream",
     "text": [
      "Number is odd-------> 1\n",
      "Number is even 2\n",
      "Number is odd-------> 3\n",
      "Number is even 4\n",
      "Number is odd-------> 5\n",
      "Number is even 6\n",
      "Number is odd-------> 7\n",
      "Number is even 8\n",
      "Number is odd-------> 9\n",
      "Number is even 10\n",
      "Number is odd-------> 11\n",
      "Number is even 12\n",
      "Number is odd-------> 13\n",
      "Number is even 14\n",
      "Number is odd-------> 15\n",
      "Number is even 16\n",
      "Number is odd-------> 17\n",
      "Number is even 18\n",
      "Number is odd-------> 19\n",
      "Number is even 20\n",
      "Number is odd-------> 21\n",
      "Number is even 22\n",
      "Number is odd-------> 23\n",
      "Number is even 24\n",
      "Number is odd-------> 25\n",
      "Number is even 26\n",
      "Number is odd-------> 27\n",
      "Number is even 28\n",
      "Number is odd-------> 29\n",
      "Number is even 30\n",
      "Number is odd-------> 31\n",
      "Number is even 32\n",
      "Number is odd-------> 33\n",
      "Number is even 34\n",
      "Number is odd-------> 35\n",
      "Number is even 36\n",
      "Number is odd-------> 37\n",
      "Number is even 38\n",
      "Number is odd-------> 39\n",
      "Number is even 40\n",
      "Number is odd-------> 41\n",
      "Number is even 42\n",
      "Number is odd-------> 43\n",
      "Number is even 44\n",
      "Number is odd-------> 45\n",
      "Number is even 46\n",
      "Number is odd-------> 47\n",
      "Number is even 48\n",
      "Number is odd-------> 49\n",
      "Number is even 50\n"
     ]
    }
   ],
   "source": [
    "#wap to print even odd using while loop!!\n",
    "\n",
    "x=1\n",
    "\n",
    "while x<=50:\n",
    "    if x%2==0:\n",
    "        print(\"Number is even\",x)\n",
    "        \n",
    "    else:\n",
    "        print(\"Number is odd------->\",x)\n",
    "        \n",
    "    x+=1"
   ]
  },
  {
   "cell_type": "code",
   "execution_count": null,
   "id": "f33919ac",
   "metadata": {},
   "outputs": [],
   "source": []
  }
 ],
 "metadata": {
  "kernelspec": {
   "display_name": "Python 3 (ipykernel)",
   "language": "python",
   "name": "python3"
  },
  "language_info": {
   "codemirror_mode": {
    "name": "ipython",
    "version": 3
   },
   "file_extension": ".py",
   "mimetype": "text/x-python",
   "name": "python",
   "nbconvert_exporter": "python",
   "pygments_lexer": "ipython3",
   "version": "3.9.12"
  }
 },
 "nbformat": 4,
 "nbformat_minor": 5
}
