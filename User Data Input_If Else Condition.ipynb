{
 "cells": [
  {
   "cell_type": "code",
   "execution_count": 1,
   "id": "2eae2067",
   "metadata": {},
   "outputs": [
    {
     "name": "stdout",
     "output_type": "stream",
     "text": [
      "3\n"
     ]
    }
   ],
   "source": [
    "# user input\n",
    "\n",
    "#Wap to sum two number without user input.\n",
    "\n",
    "a = 1\n",
    "b = 2\n",
    "c = a+b\n",
    "print(c)"
   ]
  },
  {
   "cell_type": "code",
   "execution_count": 2,
   "id": "7857f758",
   "metadata": {},
   "outputs": [
    {
     "name": "stdout",
     "output_type": "stream",
     "text": [
      "Enter something!!Hello World\n",
      "Hello World\n"
     ]
    }
   ],
   "source": [
    "# x = take input from user\n",
    "\n",
    "x = input(\"Enter something!!\")\n",
    "print(x)"
   ]
  },
  {
   "cell_type": "code",
   "execution_count": 3,
   "id": "8664c2f1",
   "metadata": {},
   "outputs": [],
   "source": [
    "#wap to add two number with the help user input."
   ]
  },
  {
   "cell_type": "code",
   "execution_count": 4,
   "id": "c399bb25",
   "metadata": {},
   "outputs": [
    {
     "name": "stdout",
     "output_type": "stream",
     "text": [
      "enter the first number1\n",
      "enter the second number2\n",
      "3\n"
     ]
    }
   ],
   "source": [
    "#--------->First_Method\n",
    "\n",
    "# Add Two No.with Int Value.\n",
    "\n",
    "a = int(input(\"enter the first number\"))\n",
    "b = int(input(\"enter the second number\"))\n",
    "c = a+b\n",
    "print(c)"
   ]
  },
  {
   "cell_type": "code",
   "execution_count": 5,
   "id": "0242ed6e",
   "metadata": {},
   "outputs": [
    {
     "name": "stdout",
     "output_type": "stream",
     "text": [
      "enter the first number12\n",
      "enter the second number13\n",
      "25\n"
     ]
    }
   ],
   "source": [
    "#-------->Second Method\n",
    "\n",
    "# Add Two No.with Int Value.\n",
    "\n",
    "a = input(\"enter the first number\")\n",
    "b = input(\"enter the second number\")\n",
    "c = int(a)+int(b)\n",
    "print(c)"
   ]
  },
  {
   "cell_type": "code",
   "execution_count": 6,
   "id": "da9645cd",
   "metadata": {},
   "outputs": [
    {
     "name": "stdout",
     "output_type": "stream",
     "text": [
      "enter the first number12\n",
      "enter the second number13\n",
      "25.0\n"
     ]
    }
   ],
   "source": [
    "# or bhai kya haal hai -------> Its Comment The Code [Shortcut Key] -------> (Ctrl+/).\n",
    "\n",
    "#Add Two No. with FLoat & Int Value.\n",
    "a = int(input(\"enter the first number\"))\n",
    "b = float(input(\"enter the second number\"))\n",
    "c = a+b\n",
    "print(c)"
   ]
  },
  {
   "cell_type": "code",
   "execution_count": 7,
   "id": "e11c7e9e",
   "metadata": {},
   "outputs": [
    {
     "name": "stdout",
     "output_type": "stream",
     "text": [
      "enter the first number12\n",
      "enter the second number15\n"
     ]
    },
    {
     "ename": "TypeError",
     "evalue": "unsupported operand type(s) for +: 'int' and 'str'",
     "output_type": "error",
     "traceback": [
      "\u001b[1;31m---------------------------------------------------------------------------\u001b[0m",
      "\u001b[1;31mTypeError\u001b[0m                                 Traceback (most recent call last)",
      "Input \u001b[1;32mIn [7]\u001b[0m, in \u001b[0;36m<cell line: 5>\u001b[1;34m()\u001b[0m\n\u001b[0;32m      3\u001b[0m a \u001b[38;5;241m=\u001b[39m \u001b[38;5;28mint\u001b[39m(\u001b[38;5;28minput\u001b[39m(\u001b[38;5;124m\"\u001b[39m\u001b[38;5;124menter the first number\u001b[39m\u001b[38;5;124m\"\u001b[39m))\n\u001b[0;32m      4\u001b[0m b \u001b[38;5;241m=\u001b[39m \u001b[38;5;28minput\u001b[39m(\u001b[38;5;124m\"\u001b[39m\u001b[38;5;124menter the second number\u001b[39m\u001b[38;5;124m\"\u001b[39m)\n\u001b[1;32m----> 5\u001b[0m c \u001b[38;5;241m=\u001b[39m \u001b[43ma\u001b[49m\u001b[38;5;241;43m+\u001b[39;49m\u001b[43mb\u001b[49m\n\u001b[0;32m      6\u001b[0m \u001b[38;5;28mprint\u001b[39m(c)\n",
      "\u001b[1;31mTypeError\u001b[0m: unsupported operand type(s) for +: 'int' and 'str'"
     ]
    }
   ],
   "source": [
    "#Add Two Number Without Floating Number\n",
    "\n",
    "a = int(input(\"enter the first number\"))\n",
    "b = input(\"enter the second number\")\n",
    "c = a+b\n",
    "print(c)\n",
    "\n"
   ]
  },
  {
   "cell_type": "code",
   "execution_count": 8,
   "id": "5fd230f4",
   "metadata": {},
   "outputs": [
    {
     "name": "stdout",
     "output_type": "stream",
     "text": [
      "enter the first number12\n",
      "enter the second number10\n",
      "2\n"
     ]
    }
   ],
   "source": [
    "#wap to Minus two number with the help user input.\n",
    "\n",
    "a = int(input(\"enter the first number\"))\n",
    "b = int(input(\"enter the second number\"))\n",
    "c = a-b\n",
    "print(c)"
   ]
  },
  {
   "cell_type": "code",
   "execution_count": 10,
   "id": "33d3da82",
   "metadata": {},
   "outputs": [
    {
     "name": "stdout",
     "output_type": "stream",
     "text": [
      "enter the first number12\n",
      "enter the second number15\n",
      "-3.0\n"
     ]
    }
   ],
   "source": [
    "#wap to Minus two number with the help user input with floating Number.\n",
    "\n",
    "a = int(input(\"enter the first number\"))\n",
    "b = float(input(\"enter the second number\"))\n",
    "c = a-b\n",
    "print(c)"
   ]
  },
  {
   "cell_type": "code",
   "execution_count": 12,
   "id": "d042c005",
   "metadata": {},
   "outputs": [
    {
     "name": "stdout",
     "output_type": "stream",
     "text": [
      "enter the first number12\n",
      "enter the second number4\n",
      "3\n"
     ]
    }
   ],
   "source": [
    "#Wap to devide two No. with user input.\n",
    "\n",
    "a= int(input(\"enter the first number\"))\n",
    "b= int(input(\"enter the second number\"))\n",
    "c= a//b\n",
    "print(c)"
   ]
  },
  {
   "cell_type": "code",
   "execution_count": 13,
   "id": "f11c494f",
   "metadata": {},
   "outputs": [
    {
     "name": "stdout",
     "output_type": "stream",
     "text": [
      "2.0\n"
     ]
    }
   ],
   "source": [
    "#Without user input. -------> for absolute values.\n",
    "a = 5\n",
    "b = 10\n",
    "c = b/a\n",
    "print(c)"
   ]
  },
  {
   "cell_type": "code",
   "execution_count": 14,
   "id": "f283ec3c",
   "metadata": {},
   "outputs": [
    {
     "name": "stdout",
     "output_type": "stream",
     "text": [
      "2\n"
     ]
    }
   ],
   "source": [
    "#Without user input. -------> for no absolute values.\n",
    "a = 5\n",
    "b = 10\n",
    "c = b//a\n",
    "print(c)"
   ]
  },
  {
   "cell_type": "code",
   "execution_count": 15,
   "id": "acffd20c",
   "metadata": {},
   "outputs": [
    {
     "data": {
      "text/plain": [
       "3"
      ]
     },
     "execution_count": 15,
     "metadata": {},
     "output_type": "execute_result"
    }
   ],
   "source": [
    "# mod operator\n",
    "a = 3\n",
    "b = 7\n",
    "c = a%b\n",
    "c"
   ]
  },
  {
   "cell_type": "code",
   "execution_count": 16,
   "id": "58ae540d",
   "metadata": {},
   "outputs": [],
   "source": [
    "# +,-,*,/,%-------> airthmetic operators"
   ]
  },
  {
   "cell_type": "code",
   "execution_count": 1,
   "id": "26c9ce3d",
   "metadata": {},
   "outputs": [
    {
     "name": "stdout",
     "output_type": "stream",
     "text": [
      "Child\n"
     ]
    }
   ],
   "source": [
    "# Condition---->\n",
    "# 50-50% chances!!\n",
    "# True / False\n",
    "\n",
    "# 75%--->\n",
    "\n",
    "\n",
    "# if /else\n",
    "\n",
    "#wap to identify a individual is either adult or child.\n",
    "\n",
    "\n",
    "\n",
    "\n",
    "\n",
    "\n",
    "# syntax\n",
    "# if cond :\n",
    "#     print the msg\n",
    "# else:\n",
    "#     print the msg\n",
    "\n",
    "#Without user input.\n",
    "age = 2\n",
    "\n",
    "if age>18:\n",
    "    print('Adult')\n",
    "else:\n",
    "    print(\"Child\")"
   ]
  },
  {
   "cell_type": "code",
   "execution_count": 3,
   "id": "c0572c59",
   "metadata": {},
   "outputs": [
    {
     "name": "stdout",
     "output_type": "stream",
     "text": [
      "Enter the age23\n",
      "Adult\n"
     ]
    }
   ],
   "source": [
    "#With user input.\n",
    "age = int(input(\"Enter the age\"))\n",
    "\n",
    "if age>18:\n",
    "    print('Adult')\n",
    "else:\n",
    "    print(\"Child\")"
   ]
  },
  {
   "cell_type": "code",
   "execution_count": 4,
   "id": "39c14bf6",
   "metadata": {},
   "outputs": [
    {
     "name": "stdout",
     "output_type": "stream",
     "text": [
      "Tenn\n"
     ]
    }
   ],
   "source": [
    "#without user.\n",
    "age = 18\n",
    "\n",
    "if age>18:\n",
    "    print('Adult')\n",
    "elif age == 18:\n",
    "    print(\"Tenn\")\n",
    "else:\n",
    "    print(\"Child\")"
   ]
  },
  {
   "cell_type": "code",
   "execution_count": 7,
   "id": "c56e2c3d",
   "metadata": {},
   "outputs": [
    {
     "name": "stdout",
     "output_type": "stream",
     "text": [
      "Enter The Age18\n",
      "Tenn\n"
     ]
    }
   ],
   "source": [
    "#With user input.\n",
    "age = int(input(\"Enter The Age\"))\n",
    "\n",
    "if age>18:\n",
    "    print('Adult')\n",
    "elif age == 18:\n",
    "    print(\"Tenn\")\n",
    "else:\n",
    "    print(\"Child\")"
   ]
  },
  {
   "cell_type": "code",
   "execution_count": 15,
   "id": "ddf79b44",
   "metadata": {},
   "outputs": [
    {
     "name": "stdout",
     "output_type": "stream",
     "text": [
      "even\n"
     ]
    }
   ],
   "source": [
    "\n",
    "# odd number & even number\n",
    "\n",
    "a = 100\n",
    "if a%2==0:\n",
    "    print(\"even\")  \n",
    "else:\n",
    "    print(\"Odd\")"
   ]
  },
  {
   "cell_type": "code",
   "execution_count": 16,
   "id": "46a2e538",
   "metadata": {},
   "outputs": [
    {
     "name": "stdout",
     "output_type": "stream",
     "text": [
      "Odd\n"
     ]
    }
   ],
   "source": [
    "a = 45\n",
    "if a%2!=0:\n",
    "    print(\"Odd\")\n",
    "else:\n",
    "    print(\"even\")"
   ]
  },
  {
   "cell_type": "code",
   "execution_count": 21,
   "id": "71424490",
   "metadata": {},
   "outputs": [
    {
     "name": "stdout",
     "output_type": "stream",
     "text": [
      "bonus 1000.0\n",
      "21000.0\n"
     ]
    }
   ],
   "source": [
    "# 1.\n",
    "# A company decided to give bonus of 5% to employee \n",
    "# if his/her year of service is more than 5 years.\n",
    "# Ask user for their salary and year of service \n",
    "# and print the net bonus amount.Also print net salary.\n",
    "\n",
    "#Without_user_Input.\n",
    "\n",
    "salary = 20000\n",
    "year_of_service = 6\n",
    "\n",
    "if year_of_service > 5:\n",
    "    bonus = (salary*5)/100\n",
    "    total_sal = salary+bonus\n",
    "    print (\"bonus\",bonus)\n",
    "    print(total_sal)\n",
    "else:\n",
    "    print(\"No bonus\")\n",
    "    "
   ]
  },
  {
   "cell_type": "code",
   "execution_count": 22,
   "id": "0c2c3819",
   "metadata": {},
   "outputs": [
    {
     "name": "stdout",
     "output_type": "stream",
     "text": [
      "Enter the salary120000\n",
      "Enter the year of service12\n",
      "bonus=> 6000.0\n",
      "Total salary after bonus will be-----> 126000.0\n"
     ]
    }
   ],
   "source": [
    "#With_User_Input.\n",
    "\n",
    "salary = int(input(\"Enter the salary\"))\n",
    "yearOfService = int(input(\"Enter the year of service\"))\n",
    "\n",
    "if yearOfService>5:\n",
    "    bonus = (salary*5)/100\n",
    "    total_sal = salary+bonus\n",
    "    print(\"bonus=>\",bonus)\n",
    "    print(\"Total salary after bonus will be----->\",total_sal)\n",
    "else:\n",
    "    print(\"No bonus\")"
   ]
  },
  {
   "cell_type": "code",
   "execution_count": null,
   "id": "09ff8958",
   "metadata": {},
   "outputs": [],
   "source": []
  }
 ],
 "metadata": {
  "kernelspec": {
   "display_name": "Python 3 (ipykernel)",
   "language": "python",
   "name": "python3"
  },
  "language_info": {
   "codemirror_mode": {
    "name": "ipython",
    "version": 3
   },
   "file_extension": ".py",
   "mimetype": "text/x-python",
   "name": "python",
   "nbconvert_exporter": "python",
   "pygments_lexer": "ipython3",
   "version": "3.9.12"
  }
 },
 "nbformat": 4,
 "nbformat_minor": 5
}
